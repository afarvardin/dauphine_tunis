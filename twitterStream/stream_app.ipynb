{
 "cells": [
  {
   "cell_type": "code",
   "execution_count": 1,
   "metadata": {},
   "outputs": [],
   "source": [
    "import findspark\n",
    "findspark.init()\n",
    "\n",
    "from pyspark import SparkConf, SparkContext\n",
    "from pyspark.streaming import StreamingContext\n",
    "from pyspark.sql import Row, SQLContext, SparkSession"
   ]
  },
  {
   "cell_type": "code",
   "execution_count": 2,
   "metadata": {},
   "outputs": [],
   "source": [
    "import time\n",
    "import shutil\n",
    "import sys\n",
    "import requests"
   ]
  },
  {
   "cell_type": "code",
   "execution_count": 3,
   "metadata": {},
   "outputs": [],
   "source": [
    "def aggregate_tags_count(new_values, total_sum):\n",
    "\treturn sum(new_values) + (total_sum or 0)\n",
    "\n",
    "\n",
    "def process_rdd(time, rdd):\n",
    "\tprint(\".:----------- %s -----------:.\" % str(time))\n",
    "\ttry:\n",
    "\t\tsqlContext = SQLContext(rdd.context)\n",
    "\t\t# Get spark sql singleton context from the current context\n",
    "\t\t#sql_context = get_sql_context_instance(rdd.context)\n",
    "\t\t# convert the RDD to Row RDD\n",
    "\t\trow_rdd = rdd.map(lambda w: Row(hashtag=w[0], hashtag_count=w[1]))\n",
    "\t\t# create a DF from the Row RDD\n",
    "\t\thashtags_df = sqlContext.createDataFrame(row_rdd)\n",
    "\t\t# Register the dataframe as table\n",
    "\t\t# hashtags_df.registerTempTable(\"hashtags\") # Deprecated\n",
    "\t\thashtags_df.createOrReplaceTempView(\"hashtags\")\n",
    "\t\t# get the top 10 hashtags from the table using SQL and print them\n",
    "\t\thashtag_counts_df = sqlContext.sql(\n",
    "\t\t\"select hashtag, hashtag_count from hashtags order by hashtag_count desc limit 10\")\n",
    "\t\t# print(type(hashtag_counts_df))\n",
    "\t\thashtag_counts_df.show()\n",
    "\t\t# call this method to prepare top 10 hashtags DF and send them\n",
    "\t\t# send_df_to_dashboard(hashtag_counts_df)\n",
    "\texcept:\n",
    "\t\te = sys.exc_info()[0]\n",
    "\t\tprint(\"Error: %s\" % e)\n",
    "\n",
    "\n",
    "# def send_df_to_dashboard(hashtag_counts_df):\n",
    "\t# You can present it visually with matplotlib if you like \n"
   ]
  },
  {
   "cell_type": "code",
   "execution_count": 4,
   "metadata": {},
   "outputs": [],
   "source": [
    "checkpoint_path = r\"C:\\Users\\AminFarvardin\\Downloads\\chkpointTwitter\"\n",
    "shutil.rmtree(checkpoint_path, ignore_errors=True)\n",
    "\n",
    "sc = SparkContext(\"local[2]\", \"TwitterStreamApp\")\n",
    "sc.setLogLevel(\"ERROR\")\n",
    "ssc = StreamingContext(sc, 2)\n",
    "# sqlContext = SQLContext(sc)\n",
    "ssc.checkpoint(checkpoint_path)\n",
    "\n",
    "dataStream = ssc.socketTextStream(\"127.0.0.1\", 9009)\n",
    "\n",
    "words = dataStream.flatMap(lambda line: line.split(\" \"))\n",
    "hashtags = words.filter(lambda w: '#' in w).map(lambda x: (x, 1))\n",
    "\n",
    "tags_totals = hashtags.updateStateByKey(aggregate_tags_count)\n",
    "# tags_totals.pprint()\n",
    "tags_totals.foreachRDD(process_rdd)"
   ]
  },
  {
   "cell_type": "code",
   "execution_count": null,
   "metadata": {},
   "source": [
    "ssc.start()"
   ]
  },
  {
   "cell_type": "code",
   "execution_count": null,
   "metadata": {},
   "outputs": [],
   "source": [
    "ssc.stop()"
   ]
  }
 ],
 "metadata": {
  "kernelspec": {
   "display_name": "Python 3",
   "language": "python",
   "name": "python3"
  },
  "language_info": {
   "codemirror_mode": {
    "name": "ipython",
    "version": 3
   },
   "file_extension": ".py",
   "mimetype": "text/x-python",
   "name": "python",
   "nbconvert_exporter": "python",
   "pygments_lexer": "ipython3",
   "version": "3.10.0 (tags/v3.10.0:b494f59, Oct  4 2021, 19:00:18) [MSC v.1929 64 bit (AMD64)]"
  },
  "orig_nbformat": 4,
  "vscode": {
   "interpreter": {
    "hash": "2188b8b0d7795296c784b84f44cf3f6691d5b16e574798a6768c9d3cb6bad582"
   }
  }
 },
 "nbformat": 4,
 "nbformat_minor": 2
}
