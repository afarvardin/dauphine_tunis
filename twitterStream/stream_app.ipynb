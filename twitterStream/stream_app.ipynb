{
 "cells": [
  {
   "cell_type": "code",
   "execution_count": 1,
   "metadata": {},
   "outputs": [],
   "source": [
    "import findspark\n",
    "findspark.init()\n",
    "\n",
    "from pyspark import SparkConf, SparkContext\n",
    "from pyspark.streaming import StreamingContext\n",
    "from pyspark.sql import Row, SQLContext, SparkSession"
   ]
  },
  {
   "cell_type": "code",
   "execution_count": 2,
   "metadata": {},
   "outputs": [],
   "source": [
    "import time\n",
    "import shutil\n",
    "import sys\n",
    "import requests"
   ]
  },
  {
   "cell_type": "code",
   "execution_count": 3,
   "metadata": {},
   "outputs": [],
   "source": [
    "def aggregate_tags_count(new_values, total_sum):\n",
    "\treturn sum(new_values) + (total_sum or 0)"
   ]
  },
  {
   "cell_type": "code",
   "execution_count": 12,
   "metadata": {},
   "outputs": [],
   "source": [
    "checkpoint_path = r\"A PATH TO A NOT EXISTED DIRECTORY\"\n",
    "shutil.rmtree(checkpoint_path, ignore_errors=True)\n",
    "\n",
    "sc = SparkContext(\"local[2]\", \"TwitterStreamApp\")\n",
    "sc.setLogLevel(\"ERROR\")\n",
    "ssc = StreamingContext(sc, 2)\n",
    "sqlContext = SQLContext(sc)\n",
    "ssc.checkpoint(checkpoint_path)\n",
    "\n",
    "dataStream = ssc.socketTextStream(\"127.0.0.1\", 9009)\n",
    "\n",
    "words = dataStream.flatMap(lambda line: line.split(\" \"))\n",
    "hashtags = words.filter(lambda w: '#' in w).map(lambda x: (x, 1))\n",
    "\n",
    "tags_totals = hashtags.updateStateByKey(aggregate_tags_count)\n",
    "tags_totals.pprint()\n"
   ]
  },
  {
   "cell_type": "code",
   "execution_count": 13,
   "metadata": {},
   "outputs": [
    {
     "name": "stdout",
     "output_type": "stream",
     "text": [
      "-------------------------------------------\n",
      "Time: 2023-01-21 04:49:14\n",
      "-------------------------------------------\n",
      "\n",
      "-------------------------------------------\n",
      "Time: 2023-01-21 04:49:16\n",
      "-------------------------------------------\n",
      "\n",
      "-------------------------------------------\n",
      "Time: 2023-01-21 04:49:18\n",
      "-------------------------------------------\n",
      "\n",
      "-------------------------------------------\n",
      "Time: 2023-01-21 04:49:20\n",
      "-------------------------------------------\n",
      "('#IranRevolutionRT', 1)\n",
      "('#مهسا_امینی', 2)\n",
      "('#IRGCterroristsRT', 1)\n",
      "('#IRGCterrorists@sibzaminizogali', 1)\n",
      "('#IRGCterrorists', 1)\n",
      "('#IranRevoIution', 2)\n",
      "('#IR…RT', 1)\n",
      "('#IRGCterrorists@ferediiiiiii1', 1)\n",
      "\n",
      "-------------------------------------------\n",
      "Time: 2023-01-21 04:49:22\n",
      "-------------------------------------------\n",
      "('#IranRevolutionRT', 1)\n",
      "('#مهسا_امینی', 2)\n",
      "('#IRGCterroristsRT', 1)\n",
      "('#IRGCterrorists@sibzaminizogali', 1)\n",
      "('#IRGCterrorists', 4)\n",
      "('#IranRevoIution', 4)\n",
      "('#IR…RT', 1)\n",
      "('#IRGCterrorists@ferediiiiiii1', 1)\n",
      "('#محمد_حسینی', 1)\n",
      "('#IRGC…RT', 1)\n",
      "...\n",
      "\n",
      "-------------------------------------------\n",
      "Time: 2023-01-21 04:49:24\n",
      "-------------------------------------------\n",
      "('#IranRevolutionRT', 1)\n",
      "('#مهسا_امینی', 4)\n",
      "('#IRGCterroristsRT', 3)\n",
      "('#IRGCterrorists@sibzaminizogali', 1)\n",
      "('#ps752', 1)\n",
      "('#IRGCterrorists', 11)\n",
      "('#IranRevoIution', 4)\n",
      "('#IR…RT', 1)\n",
      "('#IRGCterrorists@ferediiiiiii1', 1)\n",
      "('#محمد_حسینی', 1)\n",
      "...\n",
      "\n",
      "-------------------------------------------\n",
      "Time: 2023-01-21 04:49:26\n",
      "-------------------------------------------\n",
      "('#IranRevolutionRT', 1)\n",
      "('#مهسا_امینی', 5)\n",
      "('#IRGCterroristsRT', 4)\n",
      "('#IRGCterrorists@sibzaminizogali', 1)\n",
      "('#ps752', 1)\n",
      "('#RaisiTerrorist', 1)\n",
      "('#ToomajSalehi', 1)\n",
      "('#HowHealthyIsToomajReally', 1)\n",
      "('#Zahedan', 1)\n",
      "('#Kurdistan', 1)\n",
      "...\n",
      "\n",
      "-------------------------------------------\n",
      "Time: 2023-01-21 04:49:28\n",
      "-------------------------------------------\n",
      "('#IranRevolutionRT', 1)\n",
      "('#مهسا_امینی', 7)\n",
      "('#IRGCterroristsRT', 4)\n",
      "('#IRGCterrorists@sibzaminizogali', 1)\n",
      "('#ps752', 1)\n",
      "('#RaisiTerrorist', 1)\n",
      "('#ToomajSalehi', 1)\n",
      "('#HowHealthyIsToomajReally', 1)\n",
      "('#Zahedan', 1)\n",
      "('#Kurdistan', 1)\n",
      "...\n",
      "\n"
     ]
    }
   ],
   "source": [
    "ssc.start()"
   ]
  },
  {
   "cell_type": "code",
   "execution_count": 14,
   "metadata": {},
   "outputs": [
    {
     "name": "stdout",
     "output_type": "stream",
     "text": [
      "-------------------------------------------\n",
      "Time: 2023-01-21 04:49:30\n",
      "-------------------------------------------\n",
      "('#IranRevolutionRT', 1)\n",
      "('#مهسا_امینی', 8)\n",
      "('#IRGCterroristsRT', 5)\n",
      "('#IRGCterrorists@sibzaminizogali', 1)\n",
      "('#ps752', 1)\n",
      "('#RaisiTerrorist', 1)\n",
      "('#ToomajSalehi', 1)\n",
      "('#HowHealthyIsToomajReally', 1)\n",
      "('#Zahedan', 1)\n",
      "('#Kurdistan', 1)\n",
      "...\n",
      "\n"
     ]
    }
   ],
   "source": [
    "ssc.stop()"
   ]
  }
 ],
 "metadata": {
  "kernelspec": {
   "display_name": "Python 3",
   "language": "python",
   "name": "python3"
  },
  "language_info": {
   "codemirror_mode": {
    "name": "ipython",
    "version": 3
   },
   "file_extension": ".py",
   "mimetype": "text/x-python",
   "name": "python",
   "nbconvert_exporter": "python",
   "pygments_lexer": "ipython3",
   "version": "3.10.0"
  },
  "orig_nbformat": 4,
  "vscode": {
   "interpreter": {
    "hash": "2188b8b0d7795296c784b84f44cf3f6691d5b16e574798a6768c9d3cb6bad582"
   }
  }
 },
 "nbformat": 4,
 "nbformat_minor": 2
}
